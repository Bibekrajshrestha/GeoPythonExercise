{
 "cells": [
  {
   "cell_type": "code",
   "execution_count": 25,
   "id": "9b12f2ff-c16a-41b5-8137-50f879063443",
   "metadata": {},
   "outputs": [],
   "source": [
    "#defining a function to convert fahr to celsius\n",
    "def fahr_to_celsius (temp_fahrenheit):\n",
    "    return(temp_fahrenheit - 32)/1.8"
   ]
  },
  {
   "cell_type": "code",
   "execution_count": 26,
   "id": "c88dc372-4e5a-468c-a30d-050c73a97560",
   "metadata": {},
   "outputs": [
    {
     "name": "stdout",
     "output_type": "stream",
     "text": [
      " 32 degrees Fahrenheit in celsius is 0.0\n"
     ]
    }
   ],
   "source": [
    "print (f\" 32 degrees Fahrenheit in celsius is {fahr_to_celsius(32)}\")"
   ]
  },
  {
   "cell_type": "code",
   "execution_count": 27,
   "id": "856850f4-7cfb-43d3-aa99-092a215839f3",
   "metadata": {},
   "outputs": [
    {
     "name": "stdout",
     "output_type": "stream",
     "text": [
      " 48 degrees Fahrenheit in celsius is 8.89\n"
     ]
    }
   ],
   "source": [
    "print (f\" 48 degrees Fahrenheit in celsius is {fahr_to_celsius(48):.2f}\")"
   ]
  },
  {
   "cell_type": "code",
   "execution_count": 28,
   "id": "9ea480e6-bd69-4aae-b4b2-d884fd0b039c",
   "metadata": {},
   "outputs": [
    {
     "name": "stdout",
     "output_type": "stream",
     "text": [
      " 71 degrees Fahrenheit in celsius is 21.67\n"
     ]
    }
   ],
   "source": [
    "print (f\" 71 degrees Fahrenheit in celsius is {fahr_to_celsius(71):.2f}\")"
   ]
  },
  {
   "cell_type": "code",
   "execution_count": 12,
   "id": "271ae7b1-d01c-4c42-9b5a-06f3f4c765dc",
   "metadata": {},
   "outputs": [],
   "source": [
    "import inspect"
   ]
  },
  {
   "cell_type": "code",
   "execution_count": 29,
   "id": "db5f1f36-db82-4837-988d-7b111bc4373e",
   "metadata": {},
   "outputs": [
    {
     "data": {
      "text/plain": [
       "(True, 'Fahr_to_celsius should be a function.')"
      ]
     },
     "execution_count": 29,
     "metadata": {},
     "output_type": "execute_result"
    }
   ],
   "source": [
    "inspect.isfunction(fahr_to_celsius),'Fahr_to_celsius should be a function.'"
   ]
  },
  {
   "cell_type": "code",
   "execution_count": 30,
   "id": "9a7e61f9-eb45-406f-aa13-bbe1d1e35b42",
   "metadata": {},
   "outputs": [],
   "source": [
    "params = list(inspect.signature(fahr_to_celsius).parameters.keys())"
   ]
  },
  {
   "cell_type": "code",
   "execution_count": 31,
   "id": "909373fc-e3ef-4657-b39e-ef14c71749f8",
   "metadata": {},
   "outputs": [
    {
     "data": {
      "text/plain": [
       "(True, 'The function should have one parameter')"
      ]
     },
     "execution_count": 31,
     "metadata": {},
     "output_type": "execute_result"
    }
   ],
   "source": [
    " len(params) == 1, 'The function should have one parameter'"
   ]
  },
  {
   "cell_type": "code",
   "execution_count": 32,
   "id": "8737030b-f5c4-4733-bf1a-2757924c75ac",
   "metadata": {},
   "outputs": [
    {
     "data": {
      "text/plain": [
       "(True, 'The parameter name should be \"temp_fahrenheit\".')"
      ]
     },
     "execution_count": 32,
     "metadata": {},
     "output_type": "execute_result"
    }
   ],
   "source": [
    "params[0] == 'temp_fahrenheit', 'The parameter name should be \"temp_fahrenheit\".'"
   ]
  },
  {
   "cell_type": "code",
   "execution_count": 33,
   "id": "d353c3be-0b68-4360-a1bf-bcdcf81d9e25",
   "metadata": {},
   "outputs": [
    {
     "data": {
      "text/plain": [
       "True"
      ]
     },
     "execution_count": 33,
     "metadata": {},
     "output_type": "execute_result"
    }
   ],
   "source": [
    "round(fahr_to_celsius(48), 2) == 8.89"
   ]
  },
  {
   "cell_type": "code",
   "execution_count": 34,
   "id": "5be6295b-f5fb-42bd-a5ce-15e91f91662f",
   "metadata": {},
   "outputs": [
    {
     "data": {
      "text/plain": [
       "True"
      ]
     },
     "execution_count": 34,
     "metadata": {},
     "output_type": "execute_result"
    }
   ],
   "source": [
    "round(fahr_to_celsius(71), 2) == 21.67"
   ]
  },
  {
   "cell_type": "code",
   "execution_count": null,
   "id": "98c3cc40-4586-4638-9391-8edfbaed7e67",
   "metadata": {},
   "outputs": [],
   "source": []
  }
 ],
 "metadata": {
  "kernelspec": {
   "display_name": "Python 3 (ipykernel)",
   "language": "python",
   "name": "python3"
  },
  "language_info": {
   "codemirror_mode": {
    "name": "ipython",
    "version": 3
   },
   "file_extension": ".py",
   "mimetype": "text/x-python",
   "name": "python",
   "nbconvert_exporter": "python",
   "pygments_lexer": "ipython3",
   "version": "3.7.12"
  }
 },
 "nbformat": 4,
 "nbformat_minor": 5
}
