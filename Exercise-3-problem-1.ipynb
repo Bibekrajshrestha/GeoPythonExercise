{
 "cells": [
  {
   "cell_type": "code",
   "execution_count": 25,
   "id": "bdd5ea0a-0c3c-4c86-a702-521dcb9cfa04",
   "metadata": {},
   "outputs": [],
   "source": [
    "basename = \"Station\""
   ]
  },
  {
   "cell_type": "code",
   "execution_count": 26,
   "id": "09a8de00-40e1-45e6-ae7c-210daf0e027b",
   "metadata": {},
   "outputs": [
    {
     "name": "stdout",
     "output_type": "stream",
     "text": [
      "Station\n"
     ]
    }
   ],
   "source": [
    "print(basename)"
   ]
  },
  {
   "cell_type": "code",
   "execution_count": 37,
   "id": "2eb5192f-6519-4d79-83f1-5cf3ac04dbea",
   "metadata": {},
   "outputs": [],
   "source": [
    "filenames=[]"
   ]
  },
  {
   "cell_type": "code",
   "execution_count": 38,
   "id": "19b56c9a-3cf4-4e4e-80eb-7caa7c167f54",
   "metadata": {},
   "outputs": [
    {
     "name": "stdout",
     "output_type": "stream",
     "text": [
      "[]\n"
     ]
    }
   ],
   "source": [
    "print(filenames)"
   ]
  },
  {
   "cell_type": "code",
   "execution_count": 39,
   "id": "b13d41c0-f20e-4a96-b6d0-35e8ae12cf88",
   "metadata": {},
   "outputs": [],
   "source": [
    "for i in range(21):\n",
    "    filenames.append(f\"{basename}_{i}.txt\")"
   ]
  },
  {
   "cell_type": "code",
   "execution_count": 40,
   "id": "0a39ae5f-c5cb-4778-adf8-c7bb010f546d",
   "metadata": {},
   "outputs": [
    {
     "data": {
      "text/plain": [
       "['Station_0.txt',\n",
       " 'Station_1.txt',\n",
       " 'Station_2.txt',\n",
       " 'Station_3.txt',\n",
       " 'Station_4.txt',\n",
       " 'Station_5.txt',\n",
       " 'Station_6.txt',\n",
       " 'Station_7.txt',\n",
       " 'Station_8.txt',\n",
       " 'Station_9.txt',\n",
       " 'Station_10.txt',\n",
       " 'Station_11.txt',\n",
       " 'Station_12.txt',\n",
       " 'Station_13.txt',\n",
       " 'Station_14.txt',\n",
       " 'Station_15.txt',\n",
       " 'Station_16.txt',\n",
       " 'Station_17.txt',\n",
       " 'Station_18.txt',\n",
       " 'Station_19.txt',\n",
       " 'Station_20.txt']"
      ]
     },
     "execution_count": 40,
     "metadata": {},
     "output_type": "execute_result"
    }
   ],
   "source": [
    "filenames"
   ]
  },
  {
   "cell_type": "code",
   "execution_count": null,
   "id": "5e3ef1cd-8b98-4924-9e96-0a874b6e14bf",
   "metadata": {},
   "outputs": [],
   "source": [
    "assert len(filenames)"
   ]
  }
 ],
 "metadata": {
  "kernelspec": {
   "display_name": "Python 3 (ipykernel)",
   "language": "python",
   "name": "python3"
  },
  "language_info": {
   "codemirror_mode": {
    "name": "ipython",
    "version": 3
   },
   "file_extension": ".py",
   "mimetype": "text/x-python",
   "name": "python",
   "nbconvert_exporter": "python",
   "pygments_lexer": "ipython3",
   "version": "3.7.12"
  }
 },
 "nbformat": 4,
 "nbformat_minor": 5
}
