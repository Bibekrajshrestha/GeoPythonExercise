{
 "cells": [
  {
   "cell_type": "code",
   "execution_count": 47,
   "id": "62de0ec1-a0ca-44ea-adc2-243737c02ec4",
   "metadata": {},
   "outputs": [],
   "source": [
    "temperatures = [-5.4, 1.0, -1.3, -4.8, 3.9, 0.1, -4.4, 4.0, -2.2, -3.9, 4.4,\n",
    "                -2.5, -4.6, 5.1, 2.1, -2.4, 1.9, -3.3, -4.8, 1.0, -0.8, -2.8,\n",
    "                -0.1, -4.7, -5.6, 2.6, -2.7, -4.6, 3.4, -0.4, -0.9, 3.1, 2.4,\n",
    "                1.6, 4.2, 3.5, 2.6, 3.1, 2.2, 1.8, 3.3, 1.6, 1.5, 4.7, 4.0,\n",
    "                3.6, 4.9, 4.8, 5.3, 5.6, 4.1, 3.7, 7.6, 6.9, 5.1, 6.4, 3.8,\n",
    "                4.0, 8.6, 4.1, 1.4, 8.9, 3.0, 1.6, 8.5, 4.7, 6.6, 8.1, 4.5,\n",
    "                4.8, 11.3, 4.7, 5.2, 11.5, 6.2, 2.9, 4.3, 2.8, 2.8, 6.3, 2.6,\n",
    "                -0.0, 7.3, 3.4, 4.7, 9.3, 6.4, 5.4, 7.6, 5.2]"
   ]
  },
  {
   "cell_type": "code",
   "execution_count": 48,
   "id": "72e9bbce-9ccf-4256-a74c-39f77c497f9c",
   "metadata": {},
   "outputs": [],
   "source": [
    "cold = []"
   ]
  },
  {
   "cell_type": "code",
   "execution_count": 49,
   "id": "49f1d890-9e41-4950-9624-3146a24c011d",
   "metadata": {},
   "outputs": [],
   "source": [
    "slippery = []"
   ]
  },
  {
   "cell_type": "code",
   "execution_count": 50,
   "id": "a27ca452-de2e-4385-8786-74ae8cd0ffe2",
   "metadata": {},
   "outputs": [],
   "source": [
    "comfortable = []"
   ]
  },
  {
   "cell_type": "code",
   "execution_count": 51,
   "id": "74856a27-56f3-4c58-8ba0-b6267c2bb6b4",
   "metadata": {},
   "outputs": [],
   "source": [
    "warm = []"
   ]
  },
  {
   "cell_type": "code",
   "execution_count": 55,
   "id": "4b24a7c8-4e12-4ee1-87e9-00ebd8e5e51e",
   "metadata": {},
   "outputs": [
    {
     "name": "stdout",
     "output_type": "stream",
     "text": [
      "[-5.4, -4.8, -4.4, -2.2, -3.9, -2.5, -4.6, -2.4, -3.3, -4.8, -2.8, -4.7, -5.6, -2.7, -4.6] [1.0, -1.3, 0.1, 1.9, 1.0, -0.8, -0.1, -0.4, -0.9, 1.6, 1.8, 1.6, 1.5, 1.4, 1.6, -0.0] [3.9, 4.0, 4.4, 5.1, 2.1, 2.6, 3.4, 3.1, 2.4, 4.2, 3.5, 2.6, 3.1, 2.2, 3.3, 4.7, 4.0, 3.6, 4.9, 4.8, 5.3, 5.6, 4.1, 3.7, 7.6, 6.9, 5.1, 6.4, 3.8, 4.0, 8.6, 4.1, 8.9, 3.0, 8.5, 4.7, 6.6, 8.1, 4.5, 4.8, 11.3, 4.7, 5.2, 11.5, 6.2, 2.9, 4.3, 2.8, 2.8, 6.3, 2.6, 7.3, 3.4, 4.7, 9.3, 6.4, 5.4, 7.6, 5.2] []\n"
     ]
    }
   ],
   "source": [
    "print (cold, slippery, comfortable, warm)"
   ]
  },
  {
   "cell_type": "code",
   "execution_count": 53,
   "id": "0fd32fa4-3227-4a7a-bdd0-89e088df1169",
   "metadata": {},
   "outputs": [],
   "source": [
    "for i in temperatures :\n",
    "    if (i<-2):\n",
    "        cold.append(i)\n",
    "    if(i>=-2) and (i<2):\n",
    "        slippery.append(i)\n",
    "    if(i>=2) and (i<15):\n",
    "        comfortable.append(i)\n",
    "    if(i>=15):\n",
    "        warm.append(i)"
   ]
  },
  {
   "cell_type": "raw",
   "id": "644ed147-afc1-4690-b23b-873a78b76a8b",
   "metadata": {},
   "source": [
    "slippery_times = len(slippery)"
   ]
  },
  {
   "cell_type": "code",
   "execution_count": 61,
   "id": "fedca7b8-a053-486e-bb4f-5ff88ac83f86",
   "metadata": {
    "tags": []
   },
   "outputs": [
    {
     "name": "stdout",
     "output_type": "stream",
     "text": [
      "It was slippery 16 times\n"
     ]
    }
   ],
   "source": [
    "print (f\"It was slippery {slippery_times} times\")"
   ]
  },
  {
   "cell_type": "code",
   "execution_count": 64,
   "id": "0fe3cb8b-5174-40a6-a7bc-b25a7177b5ff",
   "metadata": {},
   "outputs": [
    {
     "name": "stdout",
     "output_type": "stream",
     "text": [
      "In April 2013 it was slippery 16 times.\n"
     ]
    }
   ],
   "source": [
    "print(f\"In April 2013 it was slippery {slippery_times} times.\")"
   ]
  },
  {
   "cell_type": "code",
   "execution_count": 67,
   "id": "dcde49c0-6bf3-4307-9797-281de06b9061",
   "metadata": {},
   "outputs": [],
   "source": [
    "warm_times = len(warm)"
   ]
  },
  {
   "cell_type": "code",
   "execution_count": 64,
   "id": "3d2e31ae-1ce4-4414-8658-76b8c7cbf354",
   "metadata": {},
   "outputs": [
    {
     "name": "stdout",
     "output_type": "stream",
     "text": [
      "In April 2013 it was slippery 16 times.\n"
     ]
    }
   ],
   "source": [
    "print(f\"In April 2013 it was slippery {slippery_times} times.\")"
   ]
  },
  {
   "cell_type": "code",
   "execution_count": 69,
   "id": "600a2cac-e599-40f3-afe1-70c7df961ae8",
   "metadata": {},
   "outputs": [],
   "source": [
    "cold_times = len(cold)"
   ]
  },
  {
   "cell_type": "code",
   "execution_count": 70,
   "id": "42302430-4b19-4e40-bfd0-9530b0d5eec4",
   "metadata": {},
   "outputs": [
    {
     "name": "stdout",
     "output_type": "stream",
     "text": [
      "In April 2013 it was warm 15 times.\n"
     ]
    }
   ],
   "source": [
    "print(f\"In April 2013 it was warm {cold_times} times.\")"
   ]
  },
  {
   "cell_type": "code",
   "execution_count": null,
   "id": "e40d8bf4-3a84-42e6-8128-53e1cc4c4bc5",
   "metadata": {},
   "outputs": [],
   "source": []
  }
 ],
 "metadata": {
  "kernelspec": {
   "display_name": "Python 3 (ipykernel)",
   "language": "python",
   "name": "python3"
  },
  "language_info": {
   "codemirror_mode": {
    "name": "ipython",
    "version": 3
   },
   "file_extension": ".py",
   "mimetype": "text/x-python",
   "name": "python",
   "nbconvert_exporter": "python",
   "pygments_lexer": "ipython3",
   "version": "3.7.12"
  }
 },
 "nbformat": 4,
 "nbformat_minor": 5
}
