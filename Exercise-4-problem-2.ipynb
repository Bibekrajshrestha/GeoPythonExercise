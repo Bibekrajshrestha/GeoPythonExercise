{
 "cells": [
  {
   "cell_type": "code",
   "execution_count": 9,
   "id": "a5dc70f6-3442-4a7c-8bd4-f0d6ae41620a",
   "metadata": {},
   "outputs": [],
   "source": [
    "def temp_classifier(temp_celsius):\n",
    "    if (temp_celsius<-2):\n",
    "        return 0\n",
    "    if (temp_celsius>=-2 and temp_celsius<2):\n",
    "        return 1\n",
    "    if (temp_celsius>=2 and temp_celsius<15):\n",
    "        return 2\n",
    "    if (temp_celsius>=15):\n",
    "        return 3\n",
    "    \n",
    "    "
   ]
  },
  {
   "cell_type": "code",
   "execution_count": 10,
   "id": "38b13686-8062-46ec-a90b-9e5d26c94fc6",
   "metadata": {},
   "outputs": [
    {
     "name": "stdout",
     "output_type": "stream",
     "text": [
      "The class value for 16.5 degrees is  3\n"
     ]
    }
   ],
   "source": [
    "# 1. What is the class value for 16.5 degrees Celsius?\n",
    "print (f\"The class value for 16.5 degrees is  {temp_classifier(16.5)}\")"
   ]
  },
  {
   "cell_type": "code",
   "execution_count": 11,
   "id": "514cec6a-61ea-4a94-93c5-5e02cd9b7b0e",
   "metadata": {},
   "outputs": [
    {
     "name": "stdout",
     "output_type": "stream",
     "text": [
      "The class value for 2 degrees is  2\n"
     ]
    }
   ],
   "source": [
    "# 2. What is the class value for +2 degrees Celsius?\n",
    "print (f\"The class value for 2 degrees is  {temp_classifier(2)}\")"
   ]
  },
  {
   "cell_type": "code",
   "execution_count": 12,
   "id": "1b47b07e-8314-4d75-8529-154ed59291f1",
   "metadata": {},
   "outputs": [],
   "source": [
    "import inspect"
   ]
  },
  {
   "cell_type": "code",
   "execution_count": 13,
   "id": "e60850a6-7919-4114-9ccf-43937dd09798",
   "metadata": {},
   "outputs": [
    {
     "data": {
      "text/plain": [
       "True"
      ]
     },
     "execution_count": 13,
     "metadata": {},
     "output_type": "execute_result"
    }
   ],
   "source": [
    "inspect.isfunction(temp_classifier)"
   ]
  },
  {
   "cell_type": "code",
   "execution_count": 14,
   "id": "b681f1fd-2641-452d-955c-90eb93131083",
   "metadata": {},
   "outputs": [
    {
     "data": {
      "text/plain": [
       "True"
      ]
     },
     "execution_count": 14,
     "metadata": {},
     "output_type": "execute_result"
    }
   ],
   "source": [
    "params = list(inspect.signature(temp_classifier).parameters.keys())\n",
    "len(params) == 1\n",
    "params[0] == 'temp_celsius'"
   ]
  },
  {
   "cell_type": "code",
   "execution_count": 15,
   "id": "8fe336ba-9126-4993-8caa-704b29ac11c3",
   "metadata": {},
   "outputs": [
    {
     "name": "stdout",
     "output_type": "stream",
     "text": [
      "ok :)\n"
     ]
    }
   ],
   "source": [
    "# 1. What is the class value for 16.5 degrees (Celsius)?\n",
    "temp_classifier(16.5) == 3, 'Wrong class'\n",
    "print(\"ok :)\")"
   ]
  },
  {
   "cell_type": "code",
   "execution_count": 16,
   "id": "52fac49c-de85-479b-8859-4bfecab85d7d",
   "metadata": {},
   "outputs": [
    {
     "name": "stdout",
     "output_type": "stream",
     "text": [
      "ok :)\n"
     ]
    }
   ],
   "source": [
    "# 2. What is the class value for +2 degrees (Celsius)?\n",
    "temp_classifier(2) == 2, 'Wrong class'\n",
    "print(\"ok :)\")"
   ]
  },
  {
   "cell_type": "code",
   "execution_count": 17,
   "id": "374460da-186f-4ead-bd79-8c98b1612afd",
   "metadata": {},
   "outputs": [
    {
     "name": "stdout",
     "output_type": "stream",
     "text": [
      "ok :)\n"
     ]
    }
   ],
   "source": [
    "# 3. What is the class value for +1 degrees (Celsius)?\n",
    "temp_classifier(1) == 1, 'Wrong class'\n",
    "print(\"ok :)\")"
   ]
  },
  {
   "cell_type": "code",
   "execution_count": 18,
   "id": "32905556-7a16-49ec-8c03-48c57d29c578",
   "metadata": {},
   "outputs": [
    {
     "name": "stdout",
     "output_type": "stream",
     "text": [
      "ok :)\n"
     ]
    }
   ],
   "source": [
    "# 4. What is the class value for -5 degrees (Celsius)?\n",
    "temp_classifier(-5) == 0, 'Wrong class'\n",
    "print(\"ok :)\")"
   ]
  },
  {
   "cell_type": "code",
   "execution_count": null,
   "id": "ff3cb0b3-058d-4213-a3c4-37dee2e8ee72",
   "metadata": {},
   "outputs": [],
   "source": []
  }
 ],
 "metadata": {
  "kernelspec": {
   "display_name": "Python 3 (ipykernel)",
   "language": "python",
   "name": "python3"
  },
  "language_info": {
   "codemirror_mode": {
    "name": "ipython",
    "version": 3
   },
   "file_extension": ".py",
   "mimetype": "text/x-python",
   "name": "python",
   "nbconvert_exporter": "python",
   "pygments_lexer": "ipython3",
   "version": "3.7.12"
  }
 },
 "nbformat": 4,
 "nbformat_minor": 5
}
