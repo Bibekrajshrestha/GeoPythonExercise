{
 "cells": [
  {
   "cell_type": "code",
   "execution_count": 1,
   "id": "13392fe9-a40e-4544-b396-d0024535209e",
   "metadata": {},
   "outputs": [],
   "source": [
    "north_west = []"
   ]
  },
  {
   "cell_type": "code",
   "execution_count": 2,
   "id": "3a4c0809-2c0d-4339-82b9-82d68ea8473d",
   "metadata": {},
   "outputs": [],
   "source": [
    "north_east = []"
   ]
  },
  {
   "cell_type": "code",
   "execution_count": 3,
   "id": "e2de5778-4afa-48b2-b5f6-3030400f7570",
   "metadata": {},
   "outputs": [],
   "source": [
    "south_west = []"
   ]
  },
  {
   "cell_type": "code",
   "execution_count": 4,
   "id": "5973721c-9f9d-4d8c-8775-0a3410f2408a",
   "metadata": {},
   "outputs": [],
   "source": [
    "south_east = []"
   ]
  },
  {
   "cell_type": "code",
   "execution_count": 5,
   "id": "41a96dcc-0a7d-4c2c-a9b3-fb7245535255",
   "metadata": {},
   "outputs": [
    {
     "name": "stdout",
     "output_type": "stream",
     "text": [
      "[] []\n"
     ]
    }
   ],
   "source": [
    "print (north_west, south_west)"
   ]
  },
  {
   "cell_type": "code",
   "execution_count": 6,
   "id": "1cb66df5-cda5-4d70-bfe8-b4b532831ab5",
   "metadata": {},
   "outputs": [],
   "source": [
    "# Station names\n",
    "stations = ['Hanko Russarö', 'Heinola Asemantaus', 'Helsinki Kaisaniemi', \n",
    "            'Helsinki Malmi airfield', 'Hyvinkää Hyvinkäänkylä', 'Joutsa Savenaho', \n",
    "            'Juuka Niemelä', 'Jyväskylä airport', 'Kaarina Yltöinen', 'Kauhava airfield', \n",
    "            'Kemi Kemi-Tornio airport', 'Kotka Rankki', 'Kouvola Anjala', \n",
    "            'Kouvola Utti airport', 'Kuopio Maaninka', 'Kuusamo airport', \n",
    "            'Lieksa Lampela', 'Mustasaari Valassaaret', 'Parainen Utö', 'Pori airport', \n",
    "            'Rovaniemi Apukka', 'Salo Kärkkä', 'Savonlinna Punkaharju Laukansaari', \n",
    "            'Seinäjoki Pelmaa', 'Siikajoki Ruukki', 'Siilinjärvi Kuopio airport', \n",
    "            'Tohmajärvi Kemie', 'Utsjoki Nuorgam', 'Vaala Pelso', 'Vaasa airport', \n",
    "            'Vesanto Sonkari', 'Vieremä Kaarakkala', 'Vihti Maasoja', 'Ylitornio Meltosjärvi']\n",
    "\n",
    "# Latitude coordinates of Weather stations  \n",
    "lats = [59.77, 61.2, 60.18, 60.25, 60.6, 61.88, 63.23, 62.4,\n",
    "       60.39, 63.12, 65.78, 60.38, 60.7, 60.9, 63.14, 65.99,\n",
    "       63.32, 63.44, 59.78, 61.47, 66.58, 60.37, 61.8, 62.94,\n",
    "       64.68, 63.01, 62.24, 70.08, 64.501, 63.06, 62.92, 63.84,\n",
    "       60.42, 66.53]\n",
    "\n",
    "# Longitude coordinates of Weather stations \n",
    "lons = [22.95, 26.05, 24.94, 25.05, 24.8, 26.09, 29.23, 25.67, \n",
    "       22.55, 23.04, 24.58, 26.96, 26.81, 26.95, 27.31, 29.23, \n",
    "       30.05, 21.07, 21.37, 21.79, 26.01, 23.11, 29.32, 22.49, \n",
    "       25.09, 27.8, 30.35, 27.9, 26.42, 21.75, 26.42, 27.22, \n",
    "       24.4, 24.65]"
   ]
  },
  {
   "cell_type": "code",
   "execution_count": 7,
   "id": "4c477794-058f-4ff0-a4b9-5b68a269e9cb",
   "metadata": {},
   "outputs": [],
   "source": [
    "# Cutoff values that correspond to the centroid of Finnish mainland\n",
    "# North - South\n",
    "north_south_cutoff = 64.5\n",
    "\n",
    "# East-West\n",
    "east_west_cutoff = 26.3"
   ]
  },
  {
   "cell_type": "code",
   "execution_count": 8,
   "id": "71a541a3-c02f-45f5-942e-2e6a25c36a53",
   "metadata": {},
   "outputs": [],
   "source": [
    "n = len(stations)"
   ]
  },
  {
   "cell_type": "code",
   "execution_count": 9,
   "id": "7731781d-b237-4fd8-9142-268b83a28752",
   "metadata": {},
   "outputs": [
    {
     "name": "stdout",
     "output_type": "stream",
     "text": [
      "In the dataset there are 34 stations.\n"
     ]
    }
   ],
   "source": [
    "print(f\"In the dataset there are {n} stations.\")"
   ]
  },
  {
   "cell_type": "code",
   "execution_count": 18,
   "id": "77295ae5-8052-4e1b-a34c-625f03749e5e",
   "metadata": {},
   "outputs": [],
   "source": [
    "for x in range(n):\n",
    "    if (lats[x]>north_south_cutoff) and (lons[x]<east_west_cutoff):\n",
    "        north_west.append(stations[x])\n",
    "    if (lats[x]>north_south_cutoff) and (lons[x]>east_west_cutoff):\n",
    "        north_east.append(stations[x])\n",
    "    if (lats[x]<north_south_cutoff) and (lons[x]<east_west_cutoff):\n",
    "        south_west.append(stations[x])\n",
    "    if (lats[x]<north_south_cutoff) and (lons[x]>east_west_cutoff):\n",
    "        south_east.append(stations[x]) "
   ]
  },
  {
   "cell_type": "code",
   "execution_count": 21,
   "id": "b18c3fba-0419-41ce-9065-f865f2a0aad8",
   "metadata": {},
   "outputs": [
    {
     "name": "stdout",
     "output_type": "stream",
     "text": [
      "The names of the Northwest stations are:\n",
      "['Kemi Kemi-Tornio airport', 'Rovaniemi Apukka', 'Siikajoki Ruukki', 'Ylitornio Meltosjärvi']\n"
     ]
    }
   ],
   "source": [
    "print(f\"The names of the Northwest stations are:\\n{north_west}\")"
   ]
  },
  {
   "cell_type": "code",
   "execution_count": 23,
   "id": "7b308f2d-d6f9-4ac0-a2da-f1192a789823",
   "metadata": {},
   "outputs": [
    {
     "name": "stdout",
     "output_type": "stream",
     "text": [
      "The names of the Northeast stations are:\n",
      "['Kuusamo airport', 'Utsjoki Nuorgam', 'Vaala Pelso']\n"
     ]
    }
   ],
   "source": [
    "print(f\"The names of the Northeast stations are:\\n{north_east}\")"
   ]
  },
  {
   "cell_type": "code",
   "execution_count": 24,
   "id": "5177039e-dd3d-4bc8-a01b-e9fe4a8073e7",
   "metadata": {},
   "outputs": [
    {
     "name": "stdout",
     "output_type": "stream",
     "text": [
      "The names of the Southwest stations are:\n",
      "['Hanko Russarö', 'Heinola Asemantaus', 'Helsinki Kaisaniemi', 'Helsinki Malmi airfield', 'Hyvinkää Hyvinkäänkylä', 'Joutsa Savenaho', 'Jyväskylä airport', 'Kaarina Yltöinen', 'Kauhava airfield', 'Mustasaari Valassaaret', 'Parainen Utö', 'Pori airport', 'Salo Kärkkä', 'Seinäjoki Pelmaa', 'Vaasa airport', 'Vihti Maasoja']\n"
     ]
    }
   ],
   "source": [
    "print(f\"The names of the Southwest stations are:\\n{south_west}\")"
   ]
  },
  {
   "cell_type": "code",
   "execution_count": 25,
   "id": "00eb4803-9ef5-430b-b8ee-ebcf21ae086c",
   "metadata": {},
   "outputs": [
    {
     "name": "stdout",
     "output_type": "stream",
     "text": [
      "The names of the Southeast stations are:\n",
      "['Juuka Niemelä', 'Kotka Rankki', 'Kouvola Anjala', 'Kouvola Utti airport', 'Kuopio Maaninka', 'Lieksa Lampela', 'Savonlinna Punkaharju Laukansaari', 'Siilinjärvi Kuopio airport', 'Tohmajärvi Kemie', 'Vesanto Sonkari', 'Vieremä Kaarakkala']\n"
     ]
    }
   ],
   "source": [
    "print(f\"The names of the Southeast stations are:\\n{south_east}\")"
   ]
  },
  {
   "cell_type": "code",
   "execution_count": 26,
   "id": "b6570043-3cb1-4d9d-80e3-56867c9fdb19",
   "metadata": {},
   "outputs": [],
   "source": [
    "north_west_share = (len(north_west)/n)*100"
   ]
  },
  {
   "cell_type": "code",
   "execution_count": 27,
   "id": "0cf1b609-d5e7-4de1-be9a-91f4ef3204c5",
   "metadata": {},
   "outputs": [],
   "source": [
    "north_east_share = (len(north_east)/n)*100"
   ]
  },
  {
   "cell_type": "code",
   "execution_count": 28,
   "id": "4f33bbf7-c954-42f8-9052-5f4c6694dd94",
   "metadata": {},
   "outputs": [],
   "source": [
    "south_west_share = (len(south_west)/n)*100"
   ]
  },
  {
   "cell_type": "code",
   "execution_count": 29,
   "id": "0b04e8f0-990f-4118-aea4-1f8b69c4c40d",
   "metadata": {},
   "outputs": [],
   "source": [
    "south_east_share = (len(south_east)/n)*100"
   ]
  },
  {
   "cell_type": "code",
   "execution_count": 30,
   "id": "1cafd812-d7f6-4644-83fb-27fe9f7a9ce5",
   "metadata": {},
   "outputs": [
    {
     "name": "stdout",
     "output_type": "stream",
     "text": [
      "Northwest contains 12% of all stations.\n",
      "Northeast contains 9% of all stations.\n",
      "Southwest contains 47% of all stations.\n",
      "Southeast contains 32% of all stations.\n"
     ]
    }
   ],
   "source": [
    "print(f\"Northwest contains {north_west_share:.0f}% of all stations.\")\n",
    "print(f\"Northeast contains {north_east_share:.0f}% of all stations.\")\n",
    "print(f\"Southwest contains {south_west_share:.0f}% of all stations.\")\n",
    "print(f\"Southeast contains {south_east_share:.0f}% of all stations.\")"
   ]
  },
  {
   "cell_type": "code",
   "execution_count": null,
   "id": "ae95300b-71f1-4053-8553-6eea7591a96e",
   "metadata": {},
   "outputs": [],
   "source": []
  }
 ],
 "metadata": {
  "kernelspec": {
   "display_name": "Python 3 (ipykernel)",
   "language": "python",
   "name": "python3"
  },
  "language_info": {
   "codemirror_mode": {
    "name": "ipython",
    "version": 3
   },
   "file_extension": ".py",
   "mimetype": "text/x-python",
   "name": "python",
   "nbconvert_exporter": "python",
   "pygments_lexer": "ipython3",
   "version": "3.7.12"
  }
 },
 "nbformat": 4,
 "nbformat_minor": 5
}
