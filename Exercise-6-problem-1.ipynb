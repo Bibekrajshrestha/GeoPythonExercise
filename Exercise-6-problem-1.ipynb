{
 "cells": [
  {
   "cell_type": "code",
   "execution_count": 12,
   "id": "4422475c-06d3-44be-b1a3-710852552bd2",
   "metadata": {},
   "outputs": [],
   "source": [
    "import pandas as pd"
   ]
  },
  {
   "cell_type": "code",
   "execution_count": 23,
   "id": "8e18f186-b195-4cae-ae1b-b583c4aeabdb",
   "metadata": {},
   "outputs": [],
   "source": [
    "data = pd.read_csv(\"1091402.txt\", delim_whitespace = True, na_values = [\"-9999\"],skiprows=[1])"
   ]
  },
  {
   "cell_type": "code",
   "execution_count": 40,
   "id": "01b1e638-b5b8-448b-bb11-4ecf95658541",
   "metadata": {},
   "outputs": [
    {
     "data": {
      "text/plain": [
       "Index(['STATION', 'ELEVATION', 'LATITUDE', 'LONGITUDE', 'DATE', 'PRCP', 'TAVG',\n",
       "       'TMAX', 'TMIN'],\n",
       "      dtype='object')"
      ]
     },
     "execution_count": 40,
     "metadata": {},
     "output_type": "execute_result"
    }
   ],
   "source": [
    "data.columns"
   ]
  },
  {
   "cell_type": "code",
   "execution_count": 37,
   "id": "8d8566fe-e626-4a8a-a610-6e87321a6359",
   "metadata": {},
   "outputs": [
    {
     "data": {
      "text/plain": [
       "23716"
      ]
     },
     "execution_count": 37,
     "metadata": {},
     "output_type": "execute_result"
    }
   ],
   "source": [
    "len(data)"
   ]
  },
  {
   "cell_type": "code",
   "execution_count": 34,
   "id": "a7f75ff7-e3fd-4bf3-8843-ac8b541f0acc",
   "metadata": {},
   "outputs": [],
   "source": [
    "tavg_nodata_count = len(data[data['TAVG'].isna()])"
   ]
  },
  {
   "cell_type": "code",
   "execution_count": 36,
   "id": "bed2c2b3-502a-4c91-b661-515b8152ae24",
   "metadata": {},
   "outputs": [
    {
     "name": "stdout",
     "output_type": "stream",
     "text": [
      "Number of no-data values in column \"TAVG\": 3308\n"
     ]
    }
   ],
   "source": [
    "print(f'Number of no-data values in column \"TAVG\": {tavg_nodata_count}')"
   ]
  },
  {
   "cell_type": "code",
   "execution_count": 38,
   "id": "bd0bfcf0-4597-4ba9-841c-09a9e5e24180",
   "metadata": {},
   "outputs": [],
   "source": [
    "tmin_nodata_count = len(data[data['TMIN'].isna()]) "
   ]
  },
  {
   "cell_type": "code",
   "execution_count": 39,
   "id": "7b3f685b-d348-42ed-ba3b-c17bf7e2f406",
   "metadata": {},
   "outputs": [
    {
     "name": "stdout",
     "output_type": "stream",
     "text": [
      "Number of no-data values in column \"TMIN\": 365\n"
     ]
    }
   ],
   "source": [
    "print(f'Number of no-data values in column \"TMIN\": {tmin_nodata_count}')"
   ]
  },
  {
   "cell_type": "code",
   "execution_count": 45,
   "id": "d1614db7-675e-487b-8224-14e4d3508294",
   "metadata": {},
   "outputs": [],
   "source": [
    "day_count = len(data)"
   ]
  },
  {
   "cell_type": "code",
   "execution_count": 46,
   "id": "95ada06c-4ef1-4919-9679-c0a6f848c8dd",
   "metadata": {},
   "outputs": [
    {
     "name": "stdout",
     "output_type": "stream",
     "text": [
      "Number of days: 23716\n"
     ]
    }
   ],
   "source": [
    "print(f'Number of days: {day_count}')"
   ]
  },
  {
   "cell_type": "code",
   "execution_count": 53,
   "id": "47052012-70cc-4584-b11a-4f3be91d8307",
   "metadata": {},
   "outputs": [
    {
     "data": {
      "text/html": [
       "<div>\n",
       "<style scoped>\n",
       "    .dataframe tbody tr th:only-of-type {\n",
       "        vertical-align: middle;\n",
       "    }\n",
       "\n",
       "    .dataframe tbody tr th {\n",
       "        vertical-align: top;\n",
       "    }\n",
       "\n",
       "    .dataframe thead th {\n",
       "        text-align: right;\n",
       "    }\n",
       "</style>\n",
       "<table border=\"1\" class=\"dataframe\">\n",
       "  <thead>\n",
       "    <tr style=\"text-align: right;\">\n",
       "      <th></th>\n",
       "      <th>STATION</th>\n",
       "      <th>ELEVATION</th>\n",
       "      <th>LATITUDE</th>\n",
       "      <th>LONGITUDE</th>\n",
       "      <th>DATE</th>\n",
       "      <th>PRCP</th>\n",
       "      <th>TAVG</th>\n",
       "      <th>TMAX</th>\n",
       "      <th>TMIN</th>\n",
       "    </tr>\n",
       "  </thead>\n",
       "  <tbody>\n",
       "    <tr>\n",
       "      <th>0</th>\n",
       "      <td>GHCND:FIE00142080</td>\n",
       "      <td>51</td>\n",
       "      <td>60.3269</td>\n",
       "      <td>24.9603</td>\n",
       "      <td>19520101</td>\n",
       "      <td>0.31</td>\n",
       "      <td>37.0</td>\n",
       "      <td>39.0</td>\n",
       "      <td>34.0</td>\n",
       "    </tr>\n",
       "    <tr>\n",
       "      <th>1</th>\n",
       "      <td>GHCND:FIE00142080</td>\n",
       "      <td>51</td>\n",
       "      <td>60.3269</td>\n",
       "      <td>24.9603</td>\n",
       "      <td>19520102</td>\n",
       "      <td>NaN</td>\n",
       "      <td>35.0</td>\n",
       "      <td>37.0</td>\n",
       "      <td>34.0</td>\n",
       "    </tr>\n",
       "    <tr>\n",
       "      <th>2</th>\n",
       "      <td>GHCND:FIE00142080</td>\n",
       "      <td>51</td>\n",
       "      <td>60.3269</td>\n",
       "      <td>24.9603</td>\n",
       "      <td>19520103</td>\n",
       "      <td>0.14</td>\n",
       "      <td>33.0</td>\n",
       "      <td>36.0</td>\n",
       "      <td>NaN</td>\n",
       "    </tr>\n",
       "    <tr>\n",
       "      <th>3</th>\n",
       "      <td>GHCND:FIE00142080</td>\n",
       "      <td>51</td>\n",
       "      <td>60.3269</td>\n",
       "      <td>24.9603</td>\n",
       "      <td>19520104</td>\n",
       "      <td>0.05</td>\n",
       "      <td>29.0</td>\n",
       "      <td>30.0</td>\n",
       "      <td>25.0</td>\n",
       "    </tr>\n",
       "    <tr>\n",
       "      <th>4</th>\n",
       "      <td>GHCND:FIE00142080</td>\n",
       "      <td>51</td>\n",
       "      <td>60.3269</td>\n",
       "      <td>24.9603</td>\n",
       "      <td>19520105</td>\n",
       "      <td>0.06</td>\n",
       "      <td>27.0</td>\n",
       "      <td>30.0</td>\n",
       "      <td>25.0</td>\n",
       "    </tr>\n",
       "  </tbody>\n",
       "</table>\n",
       "</div>"
      ],
      "text/plain": [
       "             STATION  ELEVATION  LATITUDE  LONGITUDE      DATE  PRCP  TAVG  \\\n",
       "0  GHCND:FIE00142080         51   60.3269    24.9603  19520101  0.31  37.0   \n",
       "1  GHCND:FIE00142080         51   60.3269    24.9603  19520102   NaN  35.0   \n",
       "2  GHCND:FIE00142080         51   60.3269    24.9603  19520103  0.14  33.0   \n",
       "3  GHCND:FIE00142080         51   60.3269    24.9603  19520104  0.05  29.0   \n",
       "4  GHCND:FIE00142080         51   60.3269    24.9603  19520105  0.06  27.0   \n",
       "\n",
       "   TMAX  TMIN  \n",
       "0  39.0  34.0  \n",
       "1  37.0  34.0  \n",
       "2  36.0   NaN  \n",
       "3  30.0  25.0  \n",
       "4  30.0  25.0  "
      ]
     },
     "execution_count": 53,
     "metadata": {},
     "output_type": "execute_result"
    }
   ],
   "source": [
    "data.sort_values(by=\"DATE\", ascending = True).head()"
   ]
  },
  {
   "cell_type": "code",
   "execution_count": 54,
   "id": "fd2383d8-a786-4697-9176-bd4e9585e25b",
   "metadata": {},
   "outputs": [],
   "source": [
    "first_obs = data['DATE'].min()"
   ]
  },
  {
   "cell_type": "code",
   "execution_count": 55,
   "id": "f4cb572c-916d-46fb-9782-41fdd0a8164a",
   "metadata": {},
   "outputs": [
    {
     "name": "stdout",
     "output_type": "stream",
     "text": [
      "Date of the first observation: 19520101\n"
     ]
    }
   ],
   "source": [
    "print(f'Date of the first observation: {first_obs}')"
   ]
  },
  {
   "cell_type": "code",
   "execution_count": 56,
   "id": "3b6b17c6-1973-413f-82fb-83384d748404",
   "metadata": {},
   "outputs": [],
   "source": [
    "last_obs = data ['DATE'].max()"
   ]
  },
  {
   "cell_type": "code",
   "execution_count": 57,
   "id": "9c2b6169-4974-4142-9af5-9eab0b24c122",
   "metadata": {},
   "outputs": [
    {
     "name": "stdout",
     "output_type": "stream",
     "text": [
      "Date of the last observation: 20171004\n"
     ]
    }
   ],
   "source": [
    "print(f'Date of the last observation: {last_obs}')"
   ]
  },
  {
   "cell_type": "code",
   "execution_count": 58,
   "id": "a5e0a687-7ce7-4e73-857f-3f70c0a590f7",
   "metadata": {},
   "outputs": [],
   "source": [
    "avg_temp = data ['TAVG'].mean()"
   ]
  },
  {
   "cell_type": "code",
   "execution_count": 59,
   "id": "c2b7ef62-b6ea-4fbc-b30f-355dd4b0944a",
   "metadata": {},
   "outputs": [
    {
     "name": "stdout",
     "output_type": "stream",
     "text": [
      "Average temperature (F) for the whole dataset: 41.32\n"
     ]
    }
   ],
   "source": [
    "print(f'Average temperature (F) for the whole dataset: {round(avg_temp, 2)}')\n"
   ]
  },
  {
   "cell_type": "code",
   "execution_count": 65,
   "id": "5e6b9474-bb21-4a5e-a289-b55760b7b192",
   "metadata": {},
   "outputs": [],
   "source": [
    "data[\"DATE\"] = data[\"DATE\"].astype(str)\n",
    "data[\"YEAR_MONTH\"] = data[\"DATE\"].str.slice(start=0, stop = 6)"
   ]
  },
  {
   "cell_type": "code",
   "execution_count": 73,
   "id": "e9d7cd86-be08-40ce-865a-9990ee4a64a0",
   "metadata": {},
   "outputs": [],
   "source": [
    "data[\"MONTH\"] = data[\"DATE\"].str.slice(start=4,stop=6)"
   ]
  },
  {
   "cell_type": "code",
   "execution_count": 74,
   "id": "55aef7e6-bc5d-40d8-ad21-0dbde4879eff",
   "metadata": {},
   "outputs": [
    {
     "data": {
      "text/html": [
       "<div>\n",
       "<style scoped>\n",
       "    .dataframe tbody tr th:only-of-type {\n",
       "        vertical-align: middle;\n",
       "    }\n",
       "\n",
       "    .dataframe tbody tr th {\n",
       "        vertical-align: top;\n",
       "    }\n",
       "\n",
       "    .dataframe thead th {\n",
       "        text-align: right;\n",
       "    }\n",
       "</style>\n",
       "<table border=\"1\" class=\"dataframe\">\n",
       "  <thead>\n",
       "    <tr style=\"text-align: right;\">\n",
       "      <th></th>\n",
       "      <th>STATION</th>\n",
       "      <th>ELEVATION</th>\n",
       "      <th>LATITUDE</th>\n",
       "      <th>LONGITUDE</th>\n",
       "      <th>DATE</th>\n",
       "      <th>PRCP</th>\n",
       "      <th>TAVG</th>\n",
       "      <th>TMAX</th>\n",
       "      <th>TMIN</th>\n",
       "      <th>YEAR_MONTH</th>\n",
       "      <th>MONTH</th>\n",
       "    </tr>\n",
       "  </thead>\n",
       "  <tbody>\n",
       "    <tr>\n",
       "      <th>0</th>\n",
       "      <td>GHCND:FIE00142080</td>\n",
       "      <td>51</td>\n",
       "      <td>60.3269</td>\n",
       "      <td>24.9603</td>\n",
       "      <td>19520101</td>\n",
       "      <td>0.31</td>\n",
       "      <td>37.0</td>\n",
       "      <td>39.0</td>\n",
       "      <td>34.0</td>\n",
       "      <td>195201</td>\n",
       "      <td>01</td>\n",
       "    </tr>\n",
       "    <tr>\n",
       "      <th>1</th>\n",
       "      <td>GHCND:FIE00142080</td>\n",
       "      <td>51</td>\n",
       "      <td>60.3269</td>\n",
       "      <td>24.9603</td>\n",
       "      <td>19520102</td>\n",
       "      <td>NaN</td>\n",
       "      <td>35.0</td>\n",
       "      <td>37.0</td>\n",
       "      <td>34.0</td>\n",
       "      <td>195201</td>\n",
       "      <td>01</td>\n",
       "    </tr>\n",
       "    <tr>\n",
       "      <th>2</th>\n",
       "      <td>GHCND:FIE00142080</td>\n",
       "      <td>51</td>\n",
       "      <td>60.3269</td>\n",
       "      <td>24.9603</td>\n",
       "      <td>19520103</td>\n",
       "      <td>0.14</td>\n",
       "      <td>33.0</td>\n",
       "      <td>36.0</td>\n",
       "      <td>NaN</td>\n",
       "      <td>195201</td>\n",
       "      <td>01</td>\n",
       "    </tr>\n",
       "    <tr>\n",
       "      <th>3</th>\n",
       "      <td>GHCND:FIE00142080</td>\n",
       "      <td>51</td>\n",
       "      <td>60.3269</td>\n",
       "      <td>24.9603</td>\n",
       "      <td>19520104</td>\n",
       "      <td>0.05</td>\n",
       "      <td>29.0</td>\n",
       "      <td>30.0</td>\n",
       "      <td>25.0</td>\n",
       "      <td>195201</td>\n",
       "      <td>01</td>\n",
       "    </tr>\n",
       "    <tr>\n",
       "      <th>4</th>\n",
       "      <td>GHCND:FIE00142080</td>\n",
       "      <td>51</td>\n",
       "      <td>60.3269</td>\n",
       "      <td>24.9603</td>\n",
       "      <td>19520105</td>\n",
       "      <td>0.06</td>\n",
       "      <td>27.0</td>\n",
       "      <td>30.0</td>\n",
       "      <td>25.0</td>\n",
       "      <td>195201</td>\n",
       "      <td>01</td>\n",
       "    </tr>\n",
       "  </tbody>\n",
       "</table>\n",
       "</div>"
      ],
      "text/plain": [
       "             STATION  ELEVATION  LATITUDE  LONGITUDE      DATE  PRCP  TAVG  \\\n",
       "0  GHCND:FIE00142080         51   60.3269    24.9603  19520101  0.31  37.0   \n",
       "1  GHCND:FIE00142080         51   60.3269    24.9603  19520102   NaN  35.0   \n",
       "2  GHCND:FIE00142080         51   60.3269    24.9603  19520103  0.14  33.0   \n",
       "3  GHCND:FIE00142080         51   60.3269    24.9603  19520104  0.05  29.0   \n",
       "4  GHCND:FIE00142080         51   60.3269    24.9603  19520105  0.06  27.0   \n",
       "\n",
       "   TMAX  TMIN YEAR_MONTH MONTH  \n",
       "0  39.0  34.0     195201    01  \n",
       "1  37.0  34.0     195201    01  \n",
       "2  36.0   NaN     195201    01  \n",
       "3  30.0  25.0     195201    01  \n",
       "4  30.0  25.0     195201    01  "
      ]
     },
     "execution_count": 74,
     "metadata": {},
     "output_type": "execute_result"
    }
   ],
   "source": [
    "data.head()"
   ]
  },
  {
   "cell_type": "code",
   "execution_count": 108,
   "id": "bc3ae8da-567a-47f1-b7d3-d6e567760db0",
   "metadata": {},
   "outputs": [],
   "source": [
    "summer69 = data[(data[\"DATE\"] >= \"19690501\") &(data[\"DATE\"] <= \"19690831\") ] "
   ]
  },
  {
   "cell_type": "code",
   "execution_count": 113,
   "id": "8f7b5fec-3576-40b5-8278-f4d5112ba191",
   "metadata": {},
   "outputs": [],
   "source": [
    "avg_temp_1969 = summer69['TMAX'].mean()"
   ]
  },
  {
   "cell_type": "code",
   "execution_count": 114,
   "id": "26406c34-96fa-4084-bc94-e919c0ecd13a",
   "metadata": {},
   "outputs": [
    {
     "name": "stdout",
     "output_type": "stream",
     "text": [
      "Average temperature (F) for the Summer of 69: 67.82\n"
     ]
    }
   ],
   "source": [
    "print(f'Average temperature (F) for the Summer of 69: {round(avg_temp_1969, 2)}')\n"
   ]
  },
  {
   "cell_type": "code",
   "execution_count": null,
   "id": "31ce9243-2f83-4b79-91f7-8e071d59e1c9",
   "metadata": {},
   "outputs": [],
   "source": []
  }
 ],
 "metadata": {
  "kernelspec": {
   "display_name": "Python 3 (ipykernel)",
   "language": "python",
   "name": "python3"
  },
  "language_info": {
   "codemirror_mode": {
    "name": "ipython",
    "version": 3
   },
   "file_extension": ".py",
   "mimetype": "text/x-python",
   "name": "python",
   "nbconvert_exporter": "python",
   "pygments_lexer": "ipython3",
   "version": "3.10.9"
  }
 },
 "nbformat": 4,
 "nbformat_minor": 5
}
