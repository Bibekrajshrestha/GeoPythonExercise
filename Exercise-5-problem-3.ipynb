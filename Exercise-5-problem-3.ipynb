{
 "cells": [
  {
   "cell_type": "code",
   "execution_count": 3,
   "id": "4f9b06a3-ba29-4429-b00b-639d71d3a417",
   "metadata": {},
   "outputs": [],
   "source": [
    "import pandas as pd"
   ]
  },
  {
   "cell_type": "code",
   "execution_count": 4,
   "id": "d53e55c5-aa92-489a-82f3-224e16f00fd9",
   "metadata": {},
   "outputs": [],
   "source": [
    "kumpula = pd.read_csv(\"Kumpula_temps_May_Aug_2017.csv\")"
   ]
  },
  {
   "cell_type": "code",
   "execution_count": 5,
   "id": "7d181d90-677d-407d-a1d7-326d3bfc8253",
   "metadata": {},
   "outputs": [],
   "source": [
    "rovaniemi = pd.read_csv(\"Rovaniemi_temps_May_Aug_2017.csv\")"
   ]
  },
  {
   "cell_type": "code",
   "execution_count": 7,
   "id": "b86fb4a4-89be-4db6-8205-5a026b0f2a4d",
   "metadata": {},
   "outputs": [],
   "source": [
    "kumpula_median = kumpula[\"TEMP\"].median"
   ]
  },
  {
   "cell_type": "code",
   "execution_count": 8,
   "id": "166b8fbc-6473-4f9d-8a5e-8fcb31eb2428",
   "metadata": {},
   "outputs": [],
   "source": [
    "rovaniemi_median = rovaniemi[\"TEMP\"].median"
   ]
  },
  {
   "cell_type": "code",
   "execution_count": 9,
   "id": "4c610453-4f97-466c-9f09-1a3080e33518",
   "metadata": {},
   "outputs": [
    {
     "name": "stdout",
     "output_type": "stream",
     "text": [
      "Kumpula median: <bound method NDFrame._add_numeric_operations.<locals>.median of 0        31\n",
      "1        30\n",
      "2        30\n",
      "3        31\n",
      "4        30\n",
      "         ..\n",
      "11689    64\n",
      "11690    64\n",
      "11691    64\n",
      "11692    64\n",
      "11693    64\n",
      "Name: TEMP, Length: 11694, dtype: object>\n",
      "Rovaniemi median: <bound method NDFrame._add_numeric_operations.<locals>.median of 0        31\n",
      "1        30\n",
      "2        30\n",
      "3        31\n",
      "4        30\n",
      "         ..\n",
      "11689    64\n",
      "11690    64\n",
      "11691    64\n",
      "11692    64\n",
      "11693    64\n",
      "Name: TEMP, Length: 11694, dtype: object>\n"
     ]
    }
   ],
   "source": [
    "print(f\"Kumpula median: {kumpula_median}\")\n",
    "print(f\"Rovaniemi median: {rovaniemi_median}\")"
   ]
  },
  {
   "cell_type": "code",
   "execution_count": null,
   "id": "58d221f2-4c68-4567-a433-f1f5dfcfb186",
   "metadata": {},
   "outputs": [],
   "source": []
  }
 ],
 "metadata": {
  "kernelspec": {
   "display_name": "Python 3 (ipykernel)",
   "language": "python",
   "name": "python3"
  },
  "language_info": {
   "codemirror_mode": {
    "name": "ipython",
    "version": 3
   },
   "file_extension": ".py",
   "mimetype": "text/x-python",
   "name": "python",
   "nbconvert_exporter": "python",
   "pygments_lexer": "ipython3",
   "version": "3.10.9"
  }
 },
 "nbformat": 4,
 "nbformat_minor": 5
}
