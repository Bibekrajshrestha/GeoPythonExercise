{
 "cells": [
  {
   "cell_type": "code",
   "execution_count": 88,
   "id": "64d907a9-37e9-4879-9ec2-98cb0e7b0455",
   "metadata": {},
   "outputs": [],
   "source": [
    "# List of half-hourly temperature values (in degrees Fahrenheit) for one week\n",
    "temp_data =  [19, 21, 21, 21, 23, 23, 23, 21, 19, 21, 19, 21, 23, 27, 27, 28, 30, 30, 32, 32, 32, 32, \n",
    "              34, 34, 34, 36, 36, 36, 36, 36, 36, 34, 34, 34, 34, 34, 34, 32, 30, 30, 30, 28, 28, 27,\n",
    "              27, 27, 23, 23, 21, 21, 21, 19, 19, 19, 18, 18, 21, 27, 28, 30, 32, 34, 36, 37, 37, 37, \n",
    "              39, 39, 39, 39, 39, 39, 41, 41, 41, 41, 41, 39, 39, 37, 37, 36, 36, 34, 34, 32, 30, 30,\n",
    "              28, 27, 27, 25, 23, 23, 21, 21, 19, 19, 19, 18, 18, 18, 21, 25, 27, 28, 34, 34, 41, 37, \n",
    "              37, 39, 39, 39, 39, 41, 41, 39, 39, 39, 39, 39, 41, 39, 39, 39, 37, 36, 34, 32, 28, 28,\n",
    "              27, 25, 25, 25, 23, 23, 23, 23, 21, 21, 21, 21, 19, 21, 19, 21, 21, 19, 21, 27, 28, 32,\n",
    "              36, 36, 37, 39, 39, 39, 39, 39, 41, 41, 41, 41, 41, 41, 41, 41, 41, 39, 37, 36, 36, 34,\n",
    "              32, 30, 28, 28, 27, 27, 25, 25, 23, 23, 23, 21, 21, 21, 19, 19, 19, 19, 19, 19, 21, 23,\n",
    "              23, 23, 25, 27, 30, 36, 37, 37, 39, 39, 41, 41, 41, 39, 39, 41, 43, 43, 43, 43, 43, 43,\n",
    "              43, 43, 43, 39, 37, 37, 37, 36, 36, 36, 36, 34, 32, 32, 32, 32, 30, 30, 28, 28, 28, 27,\n",
    "              27, 27, 27, 25, 27, 27, 27, 28, 28, 28, 30, 32, 32, 32, 34, 34, 36, 36, 36, 37, 37, 37,\n",
    "              37, 37, 37, 37, 37, 37, 36, 34, 30, 30, 27, 27, 25, 25, 23, 21, 21, 21, 21, 19, 19, 19,\n",
    "              19, 19, 18, 18, 18, 18, 18, 19, 23, 27, 30, 32, 32, 32, 32, 32, 32, 34, 34, 34, 34, 34,\n",
    "              36, 36, 36, 36, 36, 32, 32, 32, 32, 32, 32, 32, 32, 30, 30, 30, 30, 30, 30, 30, 30, 30,\n",
    "              30, 30, 30, 30, 28, 28]"
   ]
  },
  {
   "cell_type": "code",
   "execution_count": 81,
   "id": "2fc2e993-a2a4-43e4-b2c6-0abffe572e30",
   "metadata": {},
   "outputs": [
    {
     "name": "stdout",
     "output_type": "stream",
     "text": [
      "Exercise-4-problem-1.ipynb  \u001b[0m\u001b[01;34m__pycache__\u001b[0m/       Untitled1.ipynb  untitled.py\n",
      "Exercise-4-problem-2.ipynb  README.md          Untitled2.ipynb\n",
      "Exercise-4-problem-3.ipynb  requirements.txt   Untitled3.ipynb\n",
      "\u001b[01;32mpostBuild\u001b[0m*                  temp_functions.py  Untitled.ipynb\n"
     ]
    }
   ],
   "source": [
    "%ls"
   ]
  },
  {
   "cell_type": "code",
   "execution_count": 89,
   "id": "e5686a46-2e50-4efc-a609-a4ba7c3afd9b",
   "metadata": {},
   "outputs": [],
   "source": [
    "from temp_functions import fahr_to_celsius "
   ]
  },
  {
   "cell_type": "code",
   "execution_count": 90,
   "id": "b9d997ed-d806-4c1a-864f-47481656f74f",
   "metadata": {},
   "outputs": [],
   "source": [
    "from temp_functions import temp_classifier"
   ]
  },
  {
   "cell_type": "code",
   "execution_count": 91,
   "id": "c425f2e8-162c-4373-b33c-a126db3fbbe5",
   "metadata": {},
   "outputs": [],
   "source": [
    "temp_classes = []"
   ]
  },
  {
   "cell_type": "code",
   "execution_count": 94,
   "id": "48c498d7-9b16-41c8-bdd0-d52722d0a089",
   "metadata": {},
   "outputs": [],
   "source": [
    "for temp in temp_data:\n",
    "    temp_celsius = fahr_to_celsius(temp)\n",
    "    temp_class = temp_classifier(temp_celsius)\n",
    "    temp_classes.append(temp_class)"
   ]
  },
  {
   "cell_type": "code",
   "execution_count": 102,
   "id": "367a0ba6-913c-4e3a-8f86-81447c649193",
   "metadata": {},
   "outputs": [
    {
     "name": "stdout",
     "output_type": "stream",
     "text": [
      "Count for 0:  137\n",
      "Count for 1:  85\n",
      "Count for 2:  114\n",
      "Count for 3:  0\n"
     ]
    }
   ],
   "source": [
    "# 1. How many 0 values exist in the temp_classes list?\n",
    "print(\"Count for 0: \", temp_classes.count(0))\n",
    "\n",
    "# 2. How many 1 values exist in the temp_classes list?\n",
    "print(\"Count for 1: \", temp_classes.count(1))\n",
    "\n",
    "# 3. How many 2 values exist in the temp_classes list?\n",
    "print(\"Count for 2: \", temp_classes.count(2))\n",
    "\n",
    "# 4. How many 3 values exist in the temp_classes list?\n",
    "print(\"Count for 3: \", temp_classes.count(3))\n"
   ]
  },
  {
   "cell_type": "code",
   "execution_count": 103,
   "id": "8806c023-bcad-4ac6-8d19-340219a37eb9",
   "metadata": {},
   "outputs": [
    {
     "data": {
      "text/plain": [
       "True"
      ]
     },
     "execution_count": 103,
     "metadata": {},
     "output_type": "execute_result"
    }
   ],
   "source": [
    "import inspect\n",
    "\n",
    "# Check that functions are in the namespace\n",
    "inspect.isfunction(fahr_to_celsius)\n",
    "inspect.isfunction(temp_classifier)"
   ]
  },
  {
   "cell_type": "code",
   "execution_count": 105,
   "id": "6f6755d8-7d52-4435-b0cf-3ca89a926cd9",
   "metadata": {},
   "outputs": [
    {
     "data": {
      "text/plain": [
       "True"
      ]
     },
     "execution_count": 105,
     "metadata": {},
     "output_type": "execute_result"
    }
   ],
   "source": [
    "# Check that variable has been created\n",
    "'temp_celsius' in locals()\n",
    "'temp_class' in locals()\n",
    "'temp_classes' in locals()\n",
    "\n",
    "# Check that temp_classes is a list\n",
    "type(temp_classes) == list"
   ]
  },
  {
   "cell_type": "code",
   "execution_count": 106,
   "id": "9638a600-6271-4d0f-8f73-a40397519d02",
   "metadata": {},
   "outputs": [
    {
     "data": {
      "text/plain": [
       "True"
      ]
     },
     "execution_count": 106,
     "metadata": {},
     "output_type": "execute_result"
    }
   ],
   "source": [
    "# Check that the functions have a single parameter\n",
    "t_params = list(inspect.signature(temp_classifier).parameters.keys())\n",
    "f_params = list(inspect.signature(fahr_to_celsius).parameters.keys())\n",
    "len(t_params) == 1\n",
    "len(f_params) == 1"
   ]
  }
 ],
 "metadata": {
  "kernelspec": {
   "display_name": "Python 3 (ipykernel)",
   "language": "python",
   "name": "python3"
  },
  "language_info": {
   "codemirror_mode": {
    "name": "ipython",
    "version": 3
   },
   "file_extension": ".py",
   "mimetype": "text/x-python",
   "name": "python",
   "nbconvert_exporter": "python",
   "pygments_lexer": "ipython3",
   "version": "3.7.12"
  }
 },
 "nbformat": 4,
 "nbformat_minor": 5
}
